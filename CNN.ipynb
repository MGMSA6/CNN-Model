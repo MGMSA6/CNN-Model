{
 "cells": [
  {
   "cell_type": "markdown",
   "id": "ec99de1e",
   "metadata": {},
   "source": [
    "### CNN Model and Optimize using Keras Tuner"
   ]
  },
  {
   "cell_type": "code",
   "execution_count": 1,
   "id": "0fce327b",
   "metadata": {},
   "outputs": [
    {
     "name": "stderr",
     "output_type": "stream",
     "text": [
      "Using TensorFlow backend.\n"
     ]
    }
   ],
   "source": [
    "# Import libraries\n",
    "import tensorflow as tf\n",
    "from tensorflow import keras\n",
    "import numpy as np\n",
    "from keras import Sequential "
   ]
  },
  {
   "cell_type": "code",
   "execution_count": 9,
   "id": "e98c1d46",
   "metadata": {},
   "outputs": [],
   "source": [
    "# Import Dataset\n",
    "fashion_mnist = tf.keras.datasets.fashion_mnist"
   ]
  },
  {
   "cell_type": "code",
   "execution_count": 10,
   "id": "cfdead14",
   "metadata": {},
   "outputs": [],
   "source": [
    "(train_images,train_labels),(test_images,test_labels) = fashion_mnist.load_data()"
   ]
  },
  {
   "cell_type": "code",
   "execution_count": 13,
   "id": "0c58dd56",
   "metadata": {},
   "outputs": [],
   "source": [
    "# Scaling down the images\n",
    "train_images = train_images/255.0\n",
    "test_images = test_images/255.0"
   ]
  },
  {
   "cell_type": "code",
   "execution_count": 16,
   "id": "8a7edf44",
   "metadata": {},
   "outputs": [
    {
     "data": {
      "text/plain": [
       "(28, 28)"
      ]
     },
     "execution_count": 16,
     "metadata": {},
     "output_type": "execute_result"
    }
   ],
   "source": [
    "train_images[0].shape"
   ]
  },
  {
   "cell_type": "code",
   "execution_count": 17,
   "id": "c2168582",
   "metadata": {},
   "outputs": [
    {
     "data": {
      "text/plain": [
       "60000"
      ]
     },
     "execution_count": 17,
     "metadata": {},
     "output_type": "execute_result"
    }
   ],
   "source": [
    "len(train_images)"
   ]
  },
  {
   "cell_type": "code",
   "execution_count": 18,
   "id": "23fbb36f",
   "metadata": {},
   "outputs": [],
   "source": [
    "train_images = train_images.reshape(len(train_images),28,28,1)\n",
    "test_images = test_images.reshape(len(test_images),28,28,1)"
   ]
  },
  {
   "cell_type": "code",
   "execution_count": 19,
   "id": "86bd63b7",
   "metadata": {},
   "outputs": [
    {
     "data": {
      "text/plain": [
       "(60000, 28, 28, 1)"
      ]
     },
     "execution_count": 19,
     "metadata": {},
     "output_type": "execute_result"
    }
   ],
   "source": [
    "train_images.shape"
   ]
  },
  {
   "cell_type": "code",
   "execution_count": 22,
   "id": "aed89513",
   "metadata": {},
   "outputs": [],
   "source": [
    "def build_model(hp):  \n",
    "  model = keras.Sequential([\n",
    "    keras.layers.Conv2D(\n",
    "        filters=hp.Int('conv_1_kernel', min_value=32, max_value=128, step=16),\n",
    "        kernel_size=hp.Choice('conv_1_kernel', values = [3,5]),\n",
    "        activation='relu',\n",
    "        input_shape=(28,28,1)\n",
    "    ),\n",
    "    keras.layers.Conv2D(\n",
    "        filters=hp.Int('conv_2_filter', min_value=32, max_value=64, step=16),\n",
    "        kernel_size=hp.Choice('conv_2_kernel', values = [3,5]),\n",
    "        activation='relu'\n",
    "    ),\n",
    "    keras.layers.Flatten(),\n",
    "    keras.layers.Dense(\n",
    "        units=hp.Int('dense_1_units', min_value=32, max_value=128, step=16),\n",
    "        activation='relu'\n",
    "    ),\n",
    "    keras.layers.Dense(10, activation='softmax')\n",
    "  ])\n",
    "  \n",
    "  model.compile(optimizer=keras.optimizers.Adam(hp.Choice('learning_rate', values=[1e-2, 1e-3])),\n",
    "              loss='sparse_categorical_crossentropy',\n",
    "              metrics=['accuracy'])\n",
    "  \n",
    "  return model"
   ]
  },
  {
   "cell_type": "code",
   "execution_count": 23,
   "id": "b980813d",
   "metadata": {},
   "outputs": [],
   "source": [
    "from kerastuner import RandomSearch\n",
    "from kerastuner.engine.hyperparameters import HyperParameters"
   ]
  },
  {
   "cell_type": "code",
   "execution_count": 24,
   "id": "0d88a24b",
   "metadata": {},
   "outputs": [],
   "source": [
    "tuner_search = RandomSearch(build_model,\n",
    "                            objective='val_accuracy',\n",
    "                            max_trials=5,\n",
    "                            directory='output1',\n",
    "                            project_name=\"MnistFashion\")"
   ]
  },
  {
   "cell_type": "code",
   "execution_count": 25,
   "id": "e4d8813b",
   "metadata": {},
   "outputs": [
    {
     "name": "stdout",
     "output_type": "stream",
     "text": [
      "Trial 5 Complete [00h 16m 17s]\n",
      "val_accuracy: 0.9125000238418579\n",
      "\n",
      "Best val_accuracy So Far: 0.9125000238418579\n",
      "Total elapsed time: 01h 09m 51s\n",
      "INFO:tensorflow:Oracle triggered exit\n"
     ]
    }
   ],
   "source": [
    "tuner_search.search(train_images,train_labels,epochs=3,validation_split=0.1)"
   ]
  },
  {
   "cell_type": "code",
   "execution_count": 26,
   "id": "c46d7b05",
   "metadata": {},
   "outputs": [],
   "source": [
    "model = tuner_search.get_best_models(num_models=1)[0]"
   ]
  },
  {
   "cell_type": "code",
   "execution_count": 27,
   "id": "744e638c",
   "metadata": {},
   "outputs": [
    {
     "name": "stdout",
     "output_type": "stream",
     "text": [
      "Model: \"sequential\"\n",
      "_________________________________________________________________\n",
      "Layer (type)                 Output Shape              Param #   \n",
      "=================================================================\n",
      "conv2d (Conv2D)              (None, 26, 26, 128)       1280      \n",
      "_________________________________________________________________\n",
      "conv2d_1 (Conv2D)            (None, 24, 24, 48)        55344     \n",
      "_________________________________________________________________\n",
      "flatten (Flatten)            (None, 27648)             0         \n",
      "_________________________________________________________________\n",
      "dense (Dense)                (None, 112)               3096688   \n",
      "_________________________________________________________________\n",
      "dense_1 (Dense)              (None, 10)                1130      \n",
      "=================================================================\n",
      "Total params: 3,154,442\n",
      "Trainable params: 3,154,442\n",
      "Non-trainable params: 0\n",
      "_________________________________________________________________\n"
     ]
    }
   ],
   "source": [
    "model.summary()"
   ]
  },
  {
   "cell_type": "code",
   "execution_count": 28,
   "id": "dc72a7cb",
   "metadata": {},
   "outputs": [
    {
     "name": "stdout",
     "output_type": "stream",
     "text": [
      "Epoch 4/10\n",
      "1688/1688 [==============================] - 343s 203ms/step - loss: 0.1198 - accuracy: 0.9559 - val_loss: 0.2655 - val_accuracy: 0.9123\n",
      "Epoch 5/10\n",
      "1688/1688 [==============================] - 383s 227ms/step - loss: 0.0790 - accuracy: 0.9718 - val_loss: 0.3037 - val_accuracy: 0.9123\n",
      "Epoch 6/10\n",
      "1688/1688 [==============================] - 407s 241ms/step - loss: 0.0558 - accuracy: 0.9794 - val_loss: 0.3469 - val_accuracy: 0.9138\n",
      "Epoch 7/10\n",
      "1688/1688 [==============================] - 406s 241ms/step - loss: 0.0385 - accuracy: 0.9863 - val_loss: 0.3953 - val_accuracy: 0.9157\n",
      "Epoch 8/10\n",
      "1688/1688 [==============================] - 431s 255ms/step - loss: 0.0288 - accuracy: 0.9897 - val_loss: 0.4999 - val_accuracy: 0.9090\n",
      "Epoch 9/10\n",
      "1688/1688 [==============================] - 366s 217ms/step - loss: 0.0238 - accuracy: 0.9919 - val_loss: 0.5302 - val_accuracy: 0.9105\n",
      "Epoch 10/10\n",
      "1688/1688 [==============================] - 320s 189ms/step - loss: 0.0196 - accuracy: 0.9936 - val_loss: 0.5049 - val_accuracy: 0.9082\n"
     ]
    },
    {
     "data": {
      "text/plain": [
       "<tensorflow.python.keras.callbacks.History at 0x7fe626d99460>"
      ]
     },
     "execution_count": 28,
     "metadata": {},
     "output_type": "execute_result"
    }
   ],
   "source": [
    "model.fit(train_images, train_labels, epochs=10, validation_split=0.1, initial_epoch=3)"
   ]
  },
  {
   "cell_type": "code",
   "execution_count": null,
   "id": "ae5b6732",
   "metadata": {},
   "outputs": [],
   "source": []
  }
 ],
 "metadata": {
  "kernelspec": {
   "display_name": "Python 3",
   "language": "python",
   "name": "python3"
  },
  "language_info": {
   "codemirror_mode": {
    "name": "ipython",
    "version": 3
   },
   "file_extension": ".py",
   "mimetype": "text/x-python",
   "name": "python",
   "nbconvert_exporter": "python",
   "pygments_lexer": "ipython3",
   "version": "3.8.8"
  }
 },
 "nbformat": 4,
 "nbformat_minor": 5
}
