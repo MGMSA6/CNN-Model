{
 "cells": [
  {
   "cell_type": "markdown",
   "id": "ec99de1e",
   "metadata": {},
   "source": [
    "### CNN Model and Optimize using Keras Tuner"
   ]
  },
  {
   "cell_type": "code",
   "execution_count": 1,
   "id": "a7166eef",
   "metadata": {},
   "outputs": [
    {
     "name": "stderr",
     "output_type": "stream",
     "text": [
      "Using TensorFlow backend.\n"
     ]
    }
   ],
   "source": [
    "# Import libraries\n",
    "import tensorflow as tf\n",
    "from tensorflow import keras\n",
    "import numpy as np\n",
    "from keras import Sequential "
   ]
  },
  {
   "cell_type": "code",
   "execution_count": 9,
   "id": "6d0644ed",
   "metadata": {},
   "outputs": [],
   "source": [
    "# Import Dataset\n",
    "fashion_mnist = tf.keras.datasets.fashion_mnist"
   ]
  },
  {
   "cell_type": "code",
   "execution_count": 10,
   "id": "77525e81",
   "metadata": {},
   "outputs": [],
   "source": [
    "(train_images,train_labels),(test_images,test_labels) = fashion_mnist.load_data()"
   ]
  },
  {
   "cell_type": "code",
   "execution_count": 13,
   "id": "c53c34b6",
   "metadata": {},
   "outputs": [],
   "source": [
    "# Scaling down the images\n",
    "train_images = train_images/255.0\n",
    "test_images = test_images/255.0"
   ]
  },
  {
   "cell_type": "code",
   "execution_count": 16,
   "id": "787f65d1",
   "metadata": {},
   "outputs": [
    {
     "data": {
      "text/plain": [
       "(28, 28)"
      ]
     },
     "execution_count": 16,
     "metadata": {},
     "output_type": "execute_result"
    }
   ],
   "source": [
    "train_images[0].shape"
   ]
  },
  {
   "cell_type": "code",
   "execution_count": 17,
   "id": "234266a5",
   "metadata": {},
   "outputs": [
    {
     "data": {
      "text/plain": [
       "60000"
      ]
     },
     "execution_count": 17,
     "metadata": {},
     "output_type": "execute_result"
    }
   ],
   "source": [
    "len(train_images)"
   ]
  },
  {
   "cell_type": "code",
   "execution_count": 18,
   "id": "7b0939b4",
   "metadata": {},
   "outputs": [],
   "source": [
    "train_images = train_images.reshape(len(train_images),28,28,1)\n",
    "test_images = test_images.reshape(len(test_images),28,28,1)"
   ]
  },
  {
   "cell_type": "code",
   "execution_count": 19,
   "id": "273d3b5b",
   "metadata": {},
   "outputs": [
    {
     "data": {
      "text/plain": [
       "(60000, 28, 28, 1)"
      ]
     },
     "execution_count": 19,
     "metadata": {},
     "output_type": "execute_result"
    }
   ],
   "source": [
    "train_images.shape"
   ]
  },
  {
   "cell_type": "code",
   "execution_count": 22,
   "id": "9572bc3b",
   "metadata": {},
   "outputs": [],
   "source": [
    "def build_model(hp):  \n",
    "  model = keras.Sequential([\n",
    "    keras.layers.Conv2D(\n",
    "        filters=hp.Int('conv_1_kernel', min_value=32, max_value=128, step=16),\n",
    "        kernel_size=hp.Choice('conv_1_kernel', values = [3,5]),\n",
    "        activation='relu',\n",
    "        input_shape=(28,28,1)\n",
    "    ),\n",
    "    keras.layers.Conv2D(\n",
    "        filters=hp.Int('conv_2_filter', min_value=32, max_value=64, step=16),\n",
    "        kernel_size=hp.Choice('conv_2_kernel', values = [3,5]),\n",
    "        activation='relu'\n",
    "    ),\n",
    "    keras.layers.Flatten(),\n",
    "    keras.layers.Dense(\n",
    "        units=hp.Int('dense_1_units', min_value=32, max_value=128, step=16),\n",
    "        activation='relu'\n",
    "    ),\n",
    "    keras.layers.Dense(10, activation='softmax')\n",
    "  ])\n",
    "  \n",
    "  model.compile(optimizer=keras.optimizers.Adam(hp.Choice('learning_rate', values=[1e-2, 1e-3])),\n",
    "              loss='sparse_categorical_crossentropy',\n",
    "              metrics=['accuracy'])\n",
    "  \n",
    "  return model"
   ]
  },
  {
   "cell_type": "code",
   "execution_count": 23,
   "id": "d96d9ed9",
   "metadata": {},
   "outputs": [],
   "source": [
    "from kerastuner import RandomSearch\n",
    "from kerastuner.engine.hyperparameters import HyperParameters"
   ]
  },
  {
   "cell_type": "code",
   "execution_count": 24,
   "id": "e90eafd4",
   "metadata": {},
   "outputs": [],
   "source": [
    "tuner_search = RandomSearch(build_model,\n",
    "                            objective='val_accuracy',\n",
    "                            max_trials=5,\n",
    "                            directory='output1',\n",
    "                            project_name=\"MnistFashion\")"
   ]
  },
  {
   "cell_type": "code",
   "execution_count": null,
   "id": "9ba36c0b",
   "metadata": {},
   "outputs": [
    {
     "name": "stdout",
     "output_type": "stream",
     "text": [
      "Trial 1 Complete [00h 12m 15s]\n",
      "val_accuracy: 0.8511666655540466\n",
      "\n",
      "Best val_accuracy So Far: 0.8511666655540466\n",
      "Total elapsed time: 00h 12m 15s\n",
      "\n",
      "Search: Running Trial #2\n",
      "\n",
      "Hyperparameter    |Value             |Best Value So Far \n",
      "C                 |80                |112               \n",
      "conv_1_kernel     |5                 |5                 \n",
      "conv_2_filter     |48                |32                \n",
      "conv_2_kernel     |5                 |3                 \n",
      "dense_1_units     |48                |64                \n",
      "learning_rate     |0.01              |0.01              \n",
      "\n",
      "Epoch 1/3\n",
      "1688/1688 [==============================] - 339s 201ms/step - loss: 0.5515 - accuracy: 0.8061 - val_loss: 0.4146 - val_accuracy: 0.8503\n",
      "Epoch 2/3\n",
      "1688/1688 [==============================] - 338s 200ms/step - loss: 0.3744 - accuracy: 0.8627 - val_loss: 0.4202 - val_accuracy: 0.8500\n",
      "Epoch 3/3\n",
      " 960/1688 [================>.............] - ETA: 2:29 - loss: 0.3307 - accuracy: 0.8777"
     ]
    }
   ],
   "source": [
    "tuner_search.search(train_images,train_labels,epochs=3,validation_split=0.1)"
   ]
  },
  {
   "cell_type": "code",
   "execution_count": null,
   "id": "fc605cd3",
   "metadata": {},
   "outputs": [],
   "source": []
  }
 ],
 "metadata": {
  "kernelspec": {
   "display_name": "Python 3",
   "language": "python",
   "name": "python3"
  },
  "language_info": {
   "codemirror_mode": {
    "name": "ipython",
    "version": 3
   },
   "file_extension": ".py",
   "mimetype": "text/x-python",
   "name": "python",
   "nbconvert_exporter": "python",
   "pygments_lexer": "ipython3",
   "version": "3.8.8"
  }
 },
 "nbformat": 4,
 "nbformat_minor": 5
}
